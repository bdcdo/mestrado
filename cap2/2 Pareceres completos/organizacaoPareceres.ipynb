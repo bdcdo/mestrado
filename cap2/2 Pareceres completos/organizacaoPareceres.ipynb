{
 "cells": [
  {
   "cell_type": "code",
   "execution_count": 1,
   "metadata": {},
   "outputs": [],
   "source": [
    "import pandas as pd"
   ]
  },
  {
   "cell_type": "code",
   "execution_count": 2,
   "metadata": {},
   "outputs": [],
   "source": [
    "df_unicos = pd.read_excel('enatjus-NotaTecnicaCompleta-pareceresUnicos-20241006183129.xlsx')\n",
    "df_duplicados = pd.concat([pd.read_excel('enatjus-NotaTecnicaCompleta-pareceresDuplicados-20241006063353.xlsx'),\n",
    "                           pd.read_excel('debug1-20241013153719.xlsx')])\n",
    "\n",
    "lista_duplicadas = pd.read_excel('duplicatas20241002200540.xlsx')\n"
   ]
  },
  {
   "cell_type": "code",
   "execution_count": 3,
   "metadata": {},
   "outputs": [],
   "source": [
    "df_duplicados.columns = ['link_site', 'natjus_responsavel', 'nota_id', 'tecnologia_tipo', 'conclusao_resultado',\n",
    "                         'paciente_idade', 'paciente_genero', 'paciente_cidade', 'advogado_instituicao',\n",
    "                         'processo_justica', 'processo_vara', 'diagnostico_cid', 'diagnostico_nome', 'tecnologia_tipo',\n",
    "                         'tecnologia_registro', 'tecnologia_comercial', 'tecnologia_principio', \n",
    "                         'tecnologia_viaAdministracao', 'tecnologia_posologia', 'tecnologia_continuo', \n",
    "                         'tecnologia_offlabel', 'tecnologia_PCDT', 'tecnologia_incorporacao', \n",
    "                         'tecnologia_ondeSUS', 'tecnologia_oncologico', 'outrasTec_generico', \n",
    "                         'outrasTec_similar', 'evidencias_CONITEC', 'conclusao', 'conclusao_motivacao', \n",
    "                         'conclusao_evidencias', 'conclusao_urgencia', 'conclusao_anexos', \n",
    "                         'inst_responsavel', 'apoio_tutoria']"
   ]
  },
  {
   "cell_type": "code",
   "execution_count": 4,
   "metadata": {},
   "outputs": [],
   "source": [
    "lista_duplicadas.columns = ['estado', 'nota_id', 'data', 'tecnologia_tipo', 'CID', 'natjus_responsavel',\n",
    "       'status', 'link_site', 'link_PDF']\n",
    "lista_duplicadas = lista_duplicadas[['estado', 'data', 'CID', 'status', 'link_site', 'link_PDF']]"
   ]
  },
  {
   "cell_type": "code",
   "execution_count": 5,
   "metadata": {},
   "outputs": [],
   "source": [
    "# Remover duplicatas no locais_df, mantendo a primeira ocorrência\n",
    "lista_duplicadas = lista_duplicadas.drop_duplicates(subset=['link_site'])\n",
    "df_duplicados = df_duplicados.merge(lista_duplicadas, on='link_site', how='left')"
   ]
  },
  {
   "cell_type": "code",
   "execution_count": 6,
   "metadata": {},
   "outputs": [],
   "source": [
    "df_unicos.loc[df_unicos['tecnologia_tipo'] != 'Medicamento'].to_excel('debug1.xlsx')\n",
    "df_unicos = df_unicos.loc[df_unicos['tecnologia_tipo'] == 'Medicamento']"
   ]
  },
  {
   "cell_type": "code",
   "execution_count": 7,
   "metadata": {},
   "outputs": [
    {
     "data": {
      "text/plain": [
       "21092"
      ]
     },
     "execution_count": 7,
     "metadata": {},
     "output_type": "execute_result"
    }
   ],
   "source": [
    "df_duplicados.to_excel('debug2.xlsx')\n",
    "\n",
    "len(df_unicos) + len(df_duplicados)"
   ]
  },
  {
   "cell_type": "code",
   "execution_count": 8,
   "metadata": {},
   "outputs": [],
   "source": [
    "df_unicos = df_unicos.reset_index(drop=True)\n",
    "df_duplicados = df_duplicados.reset_index(drop=True)\n",
    "\n",
    "# Verifica se as colunas são únicas e elimina duplicatas\n",
    "df_unicos = df_unicos.loc[:, ~df_unicos.columns.duplicated()]\n",
    "df_duplicados = df_duplicados.loc[:, ~df_duplicados.columns.duplicated()]\n",
    "\n",
    "# Concatena com ignore_index\n",
    "df = pd.concat([df_unicos, df_duplicados], ignore_index=True)"
   ]
  },
  {
   "cell_type": "code",
   "execution_count": 9,
   "metadata": {},
   "outputs": [],
   "source": [
    "df = df.loc[df['tecnologia_tipo'] == 'Medicamento']\n",
    "df['natjus_responsavel'] = df['natjus_responsavel'].replace('RJ', 'RJ - Rio de Janeiro')\n",
    "df['natjus_responsavel'] = df['natjus_responsavel'].replace('AM - Amazonas', 'Nacional')\n",
    "#df.to_excel('debug3.xlsx')\n"
   ]
  },
  {
   "cell_type": "code",
   "execution_count": 10,
   "metadata": {},
   "outputs": [
    {
     "data": {
      "text/plain": [
       "natjus_responsavel\n",
       "ES - Espírito Santo         1500\n",
       "SP - São Paulo              1500\n",
       "BA - Bahia                  1500\n",
       "MT - Mato Grosso            1500\n",
       "MS - Mato Grosso do Sul     1500\n",
       "RJ - Rio de Janeiro         1500\n",
       "PR - Paraná                 1500\n",
       "RS - Rio Grande do Sul      1498\n",
       "DF - Distrito Federal       1497\n",
       "SE - Sergipe                1495\n",
       "Nacional                    1487\n",
       "PE - Pernambuco             1160\n",
       "MA - Maranhão               1103\n",
       "GO - Goiás                   911\n",
       "RN - Rio Grande do Norte     803\n",
       "Name: count, dtype: int64"
      ]
     },
     "execution_count": 10,
     "metadata": {},
     "output_type": "execute_result"
    }
   ],
   "source": [
    "df['natjus_responsavel'].value_counts()"
   ]
  },
  {
   "cell_type": "code",
   "execution_count": 11,
   "metadata": {},
   "outputs": [],
   "source": [
    "df.to_excel('dadosOrganizados.xlsx')"
   ]
  }
 ],
 "metadata": {
  "kernelspec": {
   "display_name": "Python 3",
   "language": "python",
   "name": "python3"
  },
  "language_info": {
   "codemirror_mode": {
    "name": "ipython",
    "version": 3
   },
   "file_extension": ".py",
   "mimetype": "text/x-python",
   "name": "python",
   "nbconvert_exporter": "python",
   "pygments_lexer": "ipython3",
   "version": "3.11.9"
  }
 },
 "nbformat": 4,
 "nbformat_minor": 2
}
