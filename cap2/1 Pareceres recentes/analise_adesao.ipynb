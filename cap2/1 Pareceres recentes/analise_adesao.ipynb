{
 "cells": [
  {
   "cell_type": "code",
   "execution_count": 16,
   "metadata": {},
   "outputs": [],
   "source": [
    "import pandas as pd"
   ]
  },
  {
   "cell_type": "code",
   "execution_count": 17,
   "metadata": {},
   "outputs": [],
   "source": [
    "df = pd.concat([pd.read_excel('enatjus-Medicamentos-20240930121319-Estado DF - Distrito Federal.xlsx'),\n",
    "               pd.read_excel('enatjus-Medicamentos-20240930123805-Estado MA - Maranhão.xlsx'),\n",
    "               pd.read_excel('enatjus-Medicamentos-20240930144122-Estado PE - Pernambuco.xlsx'),\n",
    "               pd.read_excel('enatjus-Medicamentos-20240930150458-Estado RN - Rio Grande do Norte.xlsx'),\n",
    "               pd.read_excel('enatjus-Medicamentos-20240930160020-Estado ES - Espírito Santo.xlsx'),\n",
    "               pd.read_excel('enatjus-Medicamentos-20240930162347-Estado GO - Goiás.xlsx'),\n",
    "               pd.read_excel('enatjus-Medicamentos-20240930170034-Estado PR - Paraná.xlsx'),\n",
    "               pd.read_excel('enatjus-Medicamentos-20240930174002-Estado SE - Sergipe.xlsx'),\n",
    "               pd.read_excel('enatjus-Medicamentos-20240930181910-Estado RJ - Rio de Janeiro.xlsx'),\n",
    "               pd.read_excel('enatjus-Medicamentos-20240930194337-Estado MS - Mato Grosso do Sul.xlsx'),\n",
    "               pd.read_excel('enatjus-Medicamentos-20240930201753-Estado MT - Mato Grosso.xlsx'),\n",
    "               pd.read_excel('enatjus-Medicamentos-20240930214313-Estado SP - São Paulo.xlsx'),\n",
    "               pd.read_excel('enatjus-Medicamentos-20241001125028-Estado RS - Rio Grande do Sul.xlsx'),\n",
    "               pd.read_excel('enatjus-Medicamentos-20241001150325-Estado Nacional.xlsx'),\n",
    "               pd.read_excel('enatjus-Medicamentos-20241001154253-Estado BA - Bahia.xlsx'),\n",
    "               pd.read_excel('enatjus-Medicamentos-20240930112458-Estado AC - Acre.xlsx'),\n",
    "               pd.read_excel('enatjus-Medicamentos-20240930112828-Estado AL - Alagoas.xlsx'),\n",
    "               pd.read_excel('enatjus-Medicamentos-20240930112944-Estado AP - Amapá.xlsx'),\n",
    "               pd.read_excel('enatjus-Medicamentos-20240930113543-Estado AM - Amazonas.xlsx'),\n",
    "               pd.read_excel('enatjus-Medicamentos-20240930113835-Estado CE - Ceará.xlsx'),\n",
    "               pd.read_excel('enatjus-Medicamentos-20240930123914-Estado MG - Minas Gerais.xlsx'),\n",
    "               pd.read_excel('enatjus-Medicamentos-20240930124247-Estado PA - Pará.xlsx'),\n",
    "               pd.read_excel('enatjus-Medicamentos-20240930124724-Estado PB - Paraíba.xlsx'),\n",
    "               pd.read_excel('enatjus-Medicamentos-20240930144344-Estado PI - Piauí.xlsx'),\n",
    "               pd.read_excel('enatjus-Medicamentos-20240930151236-Estado RO - Rondônia.xlsx'),\n",
    "               pd.read_excel('enatjus-Medicamentos-20240930151723-Estado RR - Roraima.xlsx'),\n",
    "               pd.read_excel('enatjus-Medicamentos-20240930151836-Estado SC - Santa Catarina.xlsx'),\n",
    "               pd.read_excel('enatjus-Medicamentos-20240930152213-Estado TO - Tocantins.xlsx')])"
   ]
  },
  {
   "cell_type": "code",
   "execution_count": 18,
   "metadata": {},
   "outputs": [
    {
     "data": {
      "text/plain": [
       "28"
      ]
     },
     "execution_count": 18,
     "metadata": {},
     "output_type": "execute_result"
    }
   ],
   "source": [
    "len(df.estado.unique())"
   ]
  },
  {
   "cell_type": "code",
   "execution_count": 19,
   "metadata": {},
   "outputs": [
    {
     "data": {
      "text/plain": [
       "0      24/09/2024 21:32\n",
       "1      24/09/2024 21:15\n",
       "2      24/09/2024 20:59\n",
       "3      24/09/2024 20:35\n",
       "4      24/09/2024 20:24\n",
       "             ...       \n",
       "102    23/09/2021 16:15\n",
       "103    23/09/2021 13:27\n",
       "104    20/04/2021 16:26\n",
       "105    16/04/2021 16:07\n",
       "106    06/04/2021 17:23\n",
       "Name: data, Length: 22109, dtype: object"
      ]
     },
     "execution_count": 19,
     "metadata": {},
     "output_type": "execute_result"
    }
   ],
   "source": [
    "df.data"
   ]
  },
  {
   "cell_type": "code",
   "execution_count": 20,
   "metadata": {},
   "outputs": [],
   "source": [
    "# Supondo que sua coluna seja 'datetime_column'\n",
    "df['data'] = pd.to_datetime(df['data'], format='%d/%m/%Y %H:%M')\n",
    "\n",
    "# Criando a nova coluna apenas com a data\n",
    "df['data'] = df['data'].dt.date"
   ]
  },
  {
   "cell_type": "code",
   "execution_count": 25,
   "metadata": {},
   "outputs": [
    {
     "name": "stdout",
     "output_type": "stream",
     "text": [
      "DF - Distrito Federal\n",
      "2022-06-03\n",
      "MA - Maranhão\n",
      "2019-10-20\n",
      "PE - Pernambuco\n",
      "2021-08-07\n",
      "RN - Rio Grande do Norte\n",
      "2021-09-18\n",
      "ES - Espírito Santo\n",
      "2023-02-16\n",
      "GO - Goiás\n",
      "2021-09-16\n",
      "PR - Paraná\n",
      "2023-12-10\n",
      "SE - Sergipe\n",
      "2021-10-15\n",
      "RJ - Rio de Janeiro\n",
      "2022-08-29\n",
      "MS - Mato Grosso do Sul\n",
      "2023-07-27\n",
      "MT - Mato Grosso\n",
      "2023-11-07\n",
      "SP - São Paulo\n",
      "2024-07-01\n",
      "RS - Rio Grande do Sul\n",
      "2024-06-04\n",
      "Nacional\n",
      "2024-09-16\n",
      "BA - Bahia\n",
      "2022-10-18\n",
      "AC - Acre\n",
      "2021-09-17\n",
      "AL - Alagoas\n",
      "2022-02-22\n",
      "AP - Amapá\n",
      "2022-08-04\n",
      "AM - Amazonas\n",
      "2022-05-09\n",
      "CE - Ceará\n",
      "2023-10-20\n",
      "MG - Minas Gerais\n",
      "2022-10-16\n",
      "PA - Pará\n",
      "2021-11-05\n",
      "PB - Paraíba\n",
      "2023-09-15\n",
      "PI - Piauí\n",
      "2021-09-17\n",
      "RO - Rondônia\n",
      "2023-11-07\n",
      "RR - Roraima\n",
      "2021-09-29\n",
      "SC - Santa Catarina\n",
      "2022-04-01\n",
      "TO - Tocantins\n",
      "2021-04-06\n"
     ]
    }
   ],
   "source": [
    "for estado in df['estado'].unique():\n",
    "    print(estado)\n",
    "    print(df.loc[df['estado'] == estado]['data'].min())"
   ]
  },
  {
   "cell_type": "code",
   "execution_count": 26,
   "metadata": {},
   "outputs": [
    {
     "name": "stdout",
     "output_type": "stream",
     "text": [
      "DF - Distrito Federal\n",
      "2024-09-24\n",
      "MA - Maranhão\n",
      "2024-09-27\n",
      "PE - Pernambuco\n",
      "2024-09-25\n",
      "RN - Rio Grande do Norte\n",
      "2024-09-27\n",
      "ES - Espírito Santo\n",
      "2024-09-27\n",
      "GO - Goiás\n",
      "2023-07-02\n",
      "PR - Paraná\n",
      "2024-09-30\n",
      "SE - Sergipe\n",
      "2024-09-26\n",
      "RJ - Rio de Janeiro\n",
      "2024-09-30\n",
      "MS - Mato Grosso do Sul\n",
      "2024-09-05\n",
      "MT - Mato Grosso\n",
      "2024-09-30\n",
      "SP - São Paulo\n",
      "2024-09-30\n",
      "RS - Rio Grande do Sul\n",
      "2024-10-01\n",
      "Nacional\n",
      "2024-09-30\n",
      "BA - Bahia\n",
      "2024-10-01\n",
      "AC - Acre\n",
      "2024-09-25\n",
      "AL - Alagoas\n",
      "2024-09-29\n",
      "AP - Amapá\n",
      "2023-06-12\n",
      "AM - Amazonas\n",
      "2024-09-26\n",
      "CE - Ceará\n",
      "2024-09-26\n",
      "MG - Minas Gerais\n",
      "2024-08-26\n",
      "PA - Pará\n",
      "2024-09-27\n",
      "PB - Paraíba\n",
      "2024-09-25\n",
      "PI - Piauí\n",
      "2022-10-15\n",
      "RO - Rondônia\n",
      "2024-09-27\n",
      "RR - Roraima\n",
      "2024-09-27\n",
      "SC - Santa Catarina\n",
      "2024-06-11\n",
      "TO - Tocantins\n",
      "2024-09-11\n"
     ]
    }
   ],
   "source": [
    "for estado in df['estado'].unique():\n",
    "    print(estado)\n",
    "    print(df.loc[df['estado'] == estado]['data'].max())"
   ]
  },
  {
   "cell_type": "code",
   "execution_count": 38,
   "metadata": {},
   "outputs": [],
   "source": [
    "cutoff_date = pd.to_datetime('01/07/2024', format='%d/%m/%Y').date()\n",
    "\n",
    "# Filtrando o DataFrame\n",
    "df[df['data'] >= cutoff_date].estado.value_counts().to_excel('producaoRecente.xlsx')\n",
    "#print(len(df[df['data'] >= cutoff_date]))"
   ]
  },
  {
   "cell_type": "code",
   "execution_count": null,
   "metadata": {},
   "outputs": [],
   "source": []
  },
  {
   "cell_type": "code",
   "execution_count": null,
   "metadata": {},
   "outputs": [],
   "source": []
  },
  {
   "cell_type": "code",
   "execution_count": null,
   "metadata": {},
   "outputs": [],
   "source": []
  },
  {
   "cell_type": "code",
   "execution_count": null,
   "metadata": {},
   "outputs": [],
   "source": []
  },
  {
   "cell_type": "code",
   "execution_count": null,
   "metadata": {},
   "outputs": [],
   "source": []
  },
  {
   "cell_type": "code",
   "execution_count": null,
   "metadata": {},
   "outputs": [],
   "source": []
  },
  {
   "cell_type": "code",
   "execution_count": null,
   "metadata": {},
   "outputs": [],
   "source": []
  },
  {
   "cell_type": "code",
   "execution_count": null,
   "metadata": {},
   "outputs": [],
   "source": []
  }
 ],
 "metadata": {
  "kernelspec": {
   "display_name": "Python 3",
   "language": "python",
   "name": "python3"
  },
  "language_info": {
   "codemirror_mode": {
    "name": "ipython",
    "version": 3
   },
   "file_extension": ".py",
   "mimetype": "text/x-python",
   "name": "python",
   "nbconvert_exporter": "python",
   "pygments_lexer": "ipython3",
   "version": "3.11.9"
  }
 },
 "nbformat": 4,
 "nbformat_minor": 2
}
